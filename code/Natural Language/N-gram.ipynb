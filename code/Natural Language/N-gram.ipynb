{
 "cells": [
  {
   "cell_type": "code",
   "execution_count": 8,
   "id": "e903db26",
   "metadata": {},
   "outputs": [
    {
     "name": "stdout",
     "output_type": "stream",
     "text": [
      "\n",
      " Unigrams :\n",
      "('I',)\n",
      "('reside',)\n",
      "('in',)\n",
      "('Bengaluru.',)\n",
      "\n",
      " Bigrams :\n",
      "('I', 'reside')\n",
      "('reside', 'in')\n",
      "('in', 'Bengaluru.')\n",
      "\n",
      " Trigrams :\n",
      "('I', 'reside', 'in')\n",
      "('reside', 'in', 'Bengaluru.')\n"
     ]
    }
   ],
   "source": [
    "from nltk import ngrams\n",
    "sentence = 'I reside in Bengaluru.'\n",
    "\n",
    "n = 1\n",
    "unigrams = ngrams(sentence.split(), n)\n",
    "print(\"\\n Unigrams :\")\n",
    "for grams in unigrams:\n",
    "    print (grams)\n",
    "    \n",
    "n = 2\n",
    "bigrams = ngrams(sentence.split(), n)\n",
    "print(\"\\n Bigrams :\")\n",
    "for grams in bigrams:\n",
    "    print (grams)\n",
    "\n",
    "n = 3\n",
    "trigrams = ngrams(sentence.split(), n)\n",
    "print(\"\\n Trigrams :\")\n",
    "for grams in trigrams:\n",
    "    print (grams)"
   ]
  },
  {
   "cell_type": "code",
   "execution_count": null,
   "id": "58aeb881",
   "metadata": {},
   "outputs": [],
   "source": []
  }
 ],
 "metadata": {
  "kernelspec": {
   "display_name": "Python 3 (ipykernel)",
   "language": "python",
   "name": "python3"
  },
  "language_info": {
   "codemirror_mode": {
    "name": "ipython",
    "version": 3
   },
   "file_extension": ".py",
   "mimetype": "text/x-python",
   "name": "python",
   "nbconvert_exporter": "python",
   "pygments_lexer": "ipython3",
   "version": "3.11.3"
  }
 },
 "nbformat": 4,
 "nbformat_minor": 5
}
