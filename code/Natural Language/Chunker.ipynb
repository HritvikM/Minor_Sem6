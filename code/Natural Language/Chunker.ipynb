{
 "cells": [
  {
   "cell_type": "code",
   "execution_count": 1,
   "id": "0b9ed00a",
   "metadata": {},
   "outputs": [
    {
     "name": "stdout",
     "output_type": "stream",
     "text": [
      "(S\n",
      "  (NP The/DT quick/JJ brown/NN fox/NN)\n",
      "  (VP jumps/VBZ (PP over/IN (NP the/DT lazy/JJ dog/NN))))\n"
     ]
    }
   ],
   "source": [
    "import nltk\n",
    "\n",
    "# Define the grammar for the chunker\n",
    "grammar = r\"\"\"\n",
    "  NP: {<DT|JJ|NN.*>+}   # Chunk sequences of DT, JJ, NN\n",
    "  PP: {<IN><NP>}       # Chunk prepositions followed by NP\n",
    "  VP: {<VB.*><NP|PP>*} # Chunk verbs and their arguments\n",
    "\"\"\"\n",
    "# Load the sample text to be chunked\n",
    "text = \"The quick brown fox jumps over the lazy dog\"\n",
    "# Tokenize the text\n",
    "tokens = nltk.word_tokenize(text)\n",
    "# Apply Part-of-Speech tagging to the tokenized text\n",
    "tagged_tokens = nltk.pos_tag(tokens)\n",
    "# Create the chunk parser using the grammar\n",
    "chunk_parser = nltk.RegexpParser(grammar)\n",
    "# Parse the tagged tokens to extract the chunks\n",
    "chunks = chunk_parser.parse(tagged_tokens)\n",
    "# Print the resulting chunks\n",
    "print(chunks)"
   ]
  },
  {
   "cell_type": "code",
   "execution_count": 2,
   "id": "a07682ab",
   "metadata": {},
   "outputs": [
    {
     "name": "stdout",
     "output_type": "stream",
     "text": [
      "(S\n",
      "  (NP The/DT quick/JJ brown/NN fox/NN)\n",
      "  jumps/VBZ\n",
      "  over/IN\n",
      "  (NP the/DT lazy/JJ dog/NN))\n"
     ]
    }
   ],
   "source": [
    "import nltk\n",
    "\n",
    "# define a sample sentence\n",
    "sentence = \"The quick brown fox jumps over the lazy dog\"\n",
    "# tokenize the sentence into words\n",
    "tokens = nltk.word_tokenize(sentence)\n",
    "# define a grammar for chunking using regular expressions\n",
    "grammar = r\"\"\"\n",
    "    NP: {<DT|JJ|NN.*>+}   # chunk noun phrases\n",
    "    VP: {<VB.*><NP|PP|CLAUSE>+$}  # chunk verb phrases\n",
    "    CLAUSE: {<NP><VP>}   # chunk clauses\n",
    "\"\"\"\n",
    "# create a chunk parser using the defined grammar\n",
    "chunk_parser = nltk.RegexpParser(grammar)\n",
    "# parse the tokenized sentence and get the chunks\n",
    "chunks = chunk_parser.parse(nltk.pos_tag(tokens))\n",
    "# print the resulting chunks\n",
    "print(chunks)"
   ]
  },
  {
   "cell_type": "code",
   "execution_count": null,
   "id": "fb8cd2e5",
   "metadata": {},
   "outputs": [],
   "source": []
  }
 ],
 "metadata": {
  "kernelspec": {
   "display_name": "Python 3 (ipykernel)",
   "language": "python",
   "name": "python3"
  },
  "language_info": {
   "codemirror_mode": {
    "name": "ipython",
    "version": 3
   },
   "file_extension": ".py",
   "mimetype": "text/x-python",
   "name": "python",
   "nbconvert_exporter": "python",
   "pygments_lexer": "ipython3",
   "version": "3.11.3"
  }
 },
 "nbformat": 4,
 "nbformat_minor": 5
}
