{
 "cells": [
  {
   "cell_type": "code",
   "execution_count": 1,
   "id": "af81b0f2",
   "metadata": {},
   "outputs": [
    {
     "name": "stdout",
     "output_type": "stream",
     "text": [
      "Maximum value: 55.0\n"
     ]
    }
   ],
   "source": [
    "def knapsack_greedy(weights, values, capacity):\n",
    "    n = len(weights)\n",
    "    value_per_weight = [(values[i] / weights[i], i) for i in range(n)]\n",
    "    value_per_weight.sort(reverse=True)\n",
    "    total_value = 0\n",
    "    total_weight = 0\n",
    "    for vpw, i in value_per_weight:\n",
    "        if total_weight + weights[i] <= capacity:\n",
    "            total_value += values[i]\n",
    "            total_weight += weights[i]\n",
    "        else:\n",
    "            remaining_capacity = capacity - total_weight\n",
    "            total_value += vpw * remaining_capacity\n",
    "            break\n",
    "    return total_value\n",
    "\n",
    "\n",
    "# example usage of knapsack_greedy function\n",
    "weights = [15, 10, 2, 4]\n",
    "values = [30, 25, 2, 6]\n",
    "capacity = 25\n",
    "max_value = knapsack_greedy(weights, values, capacity)\n",
    "print(\"Maximum value:\", max_value)"
   ]
  },
  {
   "cell_type": "code",
   "execution_count": null,
   "id": "512f23b0",
   "metadata": {},
   "outputs": [],
   "source": []
  }
 ],
 "metadata": {
  "kernelspec": {
   "display_name": "Python 3 (ipykernel)",
   "language": "python",
   "name": "python3"
  },
  "language_info": {
   "codemirror_mode": {
    "name": "ipython",
    "version": 3
   },
   "file_extension": ".py",
   "mimetype": "text/x-python",
   "name": "python",
   "nbconvert_exporter": "python",
   "pygments_lexer": "ipython3",
   "version": "3.9.12"
  }
 },
 "nbformat": 4,
 "nbformat_minor": 5
}
