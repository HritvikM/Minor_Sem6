{
 "cells": [
  {
   "cell_type": "code",
   "execution_count": 5,
   "id": "7b831803",
   "metadata": {},
   "outputs": [],
   "source": [
    "import collections"
   ]
  },
  {
   "cell_type": "code",
   "execution_count": 6,
   "id": "76af6f33",
   "metadata": {},
   "outputs": [],
   "source": [
    "def bfs(graph, root):\n",
    "    visited = set()\n",
    "    queue = collections.deque([root])\n",
    "    visited.add(root)\n",
    "    while queue:\n",
    "        vertex = queue.popleft()\n",
    "        print(str(vertex) + \" \", end=\"\")\n",
    "        for neighbour in graph[vertex]:\n",
    "            if neighbour not in visited:\n",
    "                visited.add(neighbour)\n",
    "                queue.append(neighbour)\n",
    "\n"
   ]
  },
  {
   "cell_type": "code",
   "execution_count": 7,
   "id": "7e2f81e5",
   "metadata": {},
   "outputs": [
    {
     "name": "stdout",
     "output_type": "stream",
     "text": [
      "BFS Traversal: \n",
      "0 1 2 3 "
     ]
    }
   ],
   "source": [
    "graph = {0: [1, 2], 1: [2], 2: [3], 3: [1, 2]}\n",
    "print(\"BFS Traversal: \")\n",
    "bfs(graph, 0)"
   ]
  },
  {
   "cell_type": "code",
   "execution_count": null,
   "id": "1701e1ae",
   "metadata": {},
   "outputs": [],
   "source": []
  }
 ],
 "metadata": {
  "kernelspec": {
   "display_name": "Python 3 (ipykernel)",
   "language": "python",
   "name": "python3"
  },
  "language_info": {
   "codemirror_mode": {
    "name": "ipython",
    "version": 3
   },
   "file_extension": ".py",
   "mimetype": "text/x-python",
   "name": "python",
   "nbconvert_exporter": "python",
   "pygments_lexer": "ipython3",
   "version": "3.9.12"
  }
 },
 "nbformat": 4,
 "nbformat_minor": 5
}
