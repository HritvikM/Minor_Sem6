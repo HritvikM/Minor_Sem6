{
 "cells": [
  {
   "cell_type": "code",
   "execution_count": 1,
   "id": "8fb06065",
   "metadata": {},
   "outputs": [
    {
     "name": "stdout",
     "output_type": "stream",
     "text": [
      "Goal node found with minimum cost from  A  to  F  is  13\n"
     ]
    }
   ],
   "source": [
    "from queue import PriorityQueue\n",
    "\n",
    "# Graph data structure with weights/costs\n",
    "graph = {\n",
    "    'A': {'B': 5, 'C': 6},\n",
    "    'B': {'D': 9, 'E': 8},\n",
    "    'C': {'F': 7},\n",
    "    'D': {},\n",
    "    'E': {'F': 4},\n",
    "    'F': {}\n",
    "}\n",
    "\n",
    "# Define the Best-First Search function to find minimum cost\n",
    "def best_first_search(graph, start, goal):\n",
    "    visited = set() # Set to keep track of visited nodes\n",
    "    pq = PriorityQueue() # Priority Queue to hold nodes to be explored\n",
    "    pq.put((0, start)) # Put starting node with priority 0\n",
    "    costs = {start: 0} # Dictionary to keep track of the minimum cost of each node\n",
    "\n",
    "    while not pq.empty():\n",
    "        # Pop the node with the highest priority\n",
    "        current_cost, current_node = pq.get()\n",
    "\n",
    "        if current_node == goal:\n",
    "            print(\"Goal node found with minimum cost from \",start,\" to \",goal,\" is \", current_cost)\n",
    "            return\n",
    "\n",
    "        visited.add(current_node)\n",
    "\n",
    "        # Explore neighboring nodes\n",
    "        for neighbor, cost in graph[current_node].items():\n",
    "            if neighbor not in visited:\n",
    "                new_cost = costs[current_node] + cost\n",
    "                if neighbor not in costs or new_cost < costs[neighbor]:\n",
    "                    costs[neighbor] = new_cost\n",
    "                    pq.put((new_cost, neighbor)) # Put neighboring nodes in priority queue with priority being the new cost\n",
    "\n",
    "    print(\"Goal node not found\")\n",
    "\n",
    "\n",
    "# Testing the Best-First Search function\n",
    "best_first_search(graph, 'A', 'F')"
   ]
  },
  {
   "cell_type": "code",
   "execution_count": null,
   "id": "c0706dbd",
   "metadata": {},
   "outputs": [],
   "source": []
  }
 ],
 "metadata": {
  "kernelspec": {
   "display_name": "Python 3 (ipykernel)",
   "language": "python",
   "name": "python3"
  },
  "language_info": {
   "codemirror_mode": {
    "name": "ipython",
    "version": 3
   },
   "file_extension": ".py",
   "mimetype": "text/x-python",
   "name": "python",
   "nbconvert_exporter": "python",
   "pygments_lexer": "ipython3",
   "version": "3.9.12"
  }
 },
 "nbformat": 4,
 "nbformat_minor": 5
}
