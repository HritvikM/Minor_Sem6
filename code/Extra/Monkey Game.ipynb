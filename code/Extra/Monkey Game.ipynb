{
 "cells": [
  {
   "cell_type": "code",
   "execution_count": 2,
   "id": "d424d1f2",
   "metadata": {},
   "outputs": [
    {
     "name": "stdout",
     "output_type": "stream",
     "text": [
      "Solution found:\n",
      "Step 1: MOVE_TO_BOX\n",
      "Step 2: PUSH_BOX\n",
      "Step 3: CLIMB_BOX\n",
      "Step 4: GRAB_BANANA\n"
     ]
    }
   ],
   "source": [
    "class MonkeyBananaProblem:\n",
    "    def __init__(self):\n",
    "        self.state = \"INITIAL\"\n",
    "\n",
    "    def perform_action(self, action):\n",
    "        if self.state == \"INITIAL\":\n",
    "            if action == \"MOVE_TO_BOX\":\n",
    "                self.state = \"AT_BOX\"\n",
    "            else:\n",
    "                return False\n",
    "        elif self.state == \"AT_BOX\":\n",
    "            if action == \"CLIMB_BOX\":\n",
    "                self.state = \"ON_BOX\"\n",
    "            elif action == \"PUSH_BOX\":\n",
    "                self.state = \"BOX_AT_BANANA\"\n",
    "            else:\n",
    "                return False\n",
    "        elif self.state == \"ON_BOX\":\n",
    "            if action == \"GRAB_BANANA\":\n",
    "                self.state = \"BANANA_ACQUIRED\"\n",
    "            else:\n",
    "                return False\n",
    "        elif self.state == \"BOX_AT_BANANA\":\n",
    "            if action == \"CLIMB_BOX\":\n",
    "                self.state = \"ON_BOX_AT_BANANA\"\n",
    "            else:\n",
    "                return False\n",
    "        elif self.state == \"ON_BOX_AT_BANANA\":\n",
    "            if action == \"GRAB_BANANA\":\n",
    "                self.state = \"BANANA_ACQUIRED\"\n",
    "            else:\n",
    "                return False\n",
    "        return True\n",
    "\n",
    "    def is_solved(self):\n",
    "        return self.state == \"BANANA_ACQUIRED\"\n",
    "\n",
    "\n",
    "def solve_monkey_banana_problem():\n",
    "    problem = MonkeyBananaProblem()\n",
    "    actions = [\"MOVE_TO_BOX\", \"PUSH_BOX\", \"CLIMB_BOX\", \"GRAB_BANANA\"]\n",
    "    for action1 in actions:\n",
    "        for action2 in actions:\n",
    "            for action3 in actions:\n",
    "                for action4 in actions:\n",
    "                    problem_copy = MonkeyBananaProblem()\n",
    "                    if problem_copy.perform_action(action1) and \\\n",
    "                            problem_copy.perform_action(action2) and \\\n",
    "                            problem_copy.perform_action(action3) and \\\n",
    "                            problem_copy.perform_action(action4) and \\\n",
    "                            problem_copy.is_solved():\n",
    "                        return [action1, action2, action3, action4]\n",
    "    return None\n",
    "\n",
    "\n",
    "solution = solve_monkey_banana_problem()\n",
    "if solution:\n",
    "    print(\"Solution found:\")\n",
    "    for step, action in enumerate(solution, start=1):\n",
    "        print(f\"Step {step}: {action}\")\n",
    "else:\n",
    "    print(\"No solution found.\")"
   ]
  },
  {
   "cell_type": "code",
   "execution_count": 6,
   "id": "d299f822",
   "metadata": {},
   "outputs": [
    {
     "name": "stdout",
     "output_type": "stream",
     "text": [
      "Note: you may need to restart the kernel to use updated packages.\n"
     ]
    },
    {
     "name": "stderr",
     "output_type": "stream",
     "text": [
      "ERROR: Could not find a version that satisfies the requirement poodle (from versions: none)\n",
      "ERROR: No matching distribution found for poodle\n"
     ]
    }
   ],
   "source": [
    "pip install poodle\n"
   ]
  },
  {
   "cell_type": "code",
   "execution_count": 4,
   "id": "7a5dba9f",
   "metadata": {},
   "outputs": [
    {
     "ename": "ModuleNotFoundError",
     "evalue": "No module named 'poodle'",
     "output_type": "error",
     "traceback": [
      "\u001b[1;31m---------------------------------------------------------------------------\u001b[0m",
      "\u001b[1;31mModuleNotFoundError\u001b[0m                       Traceback (most recent call last)",
      "Input \u001b[1;32mIn [4]\u001b[0m, in \u001b[0;36m<cell line: 1>\u001b[1;34m()\u001b[0m\n\u001b[1;32m----> 1\u001b[0m \u001b[38;5;28;01mfrom\u001b[39;00m \u001b[38;5;21;01mpoodle\u001b[39;00m \u001b[38;5;28;01mimport\u001b[39;00m Object,schedule\n\u001b[0;32m      2\u001b[0m \u001b[38;5;28;01mfrom\u001b[39;00m \u001b[38;5;21;01mtyping\u001b[39;00m \u001b[38;5;28;01mimport\u001b[39;00m Set\n\u001b[0;32m      3\u001b[0m \u001b[38;5;28;01mclass\u001b[39;00m \u001b[38;5;21;01mPosition\u001b[39;00m(Object):\n",
      "\u001b[1;31mModuleNotFoundError\u001b[0m: No module named 'poodle'"
     ]
    }
   ],
   "source": []
  },
  {
   "cell_type": "code",
   "execution_count": null,
   "id": "4555a9de",
   "metadata": {},
   "outputs": [],
   "source": []
  }
 ],
 "metadata": {
  "kernelspec": {
   "display_name": "Python 3 (ipykernel)",
   "language": "python",
   "name": "python3"
  },
  "language_info": {
   "codemirror_mode": {
    "name": "ipython",
    "version": 3
   },
   "file_extension": ".py",
   "mimetype": "text/x-python",
   "name": "python",
   "nbconvert_exporter": "python",
   "pygments_lexer": "ipython3",
   "version": "3.9.12"
  }
 },
 "nbformat": 4,
 "nbformat_minor": 5
}
