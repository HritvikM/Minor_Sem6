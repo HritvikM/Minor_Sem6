{
 "cells": [
  {
   "cell_type": "code",
   "execution_count": 1,
   "id": "030f92ac",
   "metadata": {},
   "outputs": [],
   "source": [
    "def dfs(graph, start, visited=None):\n",
    "    if visited is None:\n",
    "        visited = set()\n",
    "    visited.add(start)\n",
    "    print(start, end=' ')\n",
    "    for next in graph[start] - visited:\n",
    "        dfs(graph, next, visited)"
   ]
  },
  {
   "cell_type": "code",
   "execution_count": 2,
   "id": "6b548d38",
   "metadata": {},
   "outputs": [
    {
     "name": "stdout",
     "output_type": "stream",
     "text": [
      "DFS Traversal: 0 1 4 2 3 3 2 "
     ]
    }
   ],
   "source": [
    "graph = {'0': set(['1', '2']),\n",
    "         '1': set(['0', '3', '4']),\n",
    "         '2': set(['0']),\n",
    "         '3': set(['1']),\n",
    "         '4': set(['2', '3'])}\n",
    "print(\"DFS Traversal: \", end='')\n",
    "dfs(graph, '0')"
   ]
  }
 ],
 "metadata": {
  "kernelspec": {
   "display_name": "Python 3 (ipykernel)",
   "language": "python",
   "name": "python3"
  },
  "language_info": {
   "codemirror_mode": {
    "name": "ipython",
    "version": 3
   },
   "file_extension": ".py",
   "mimetype": "text/x-python",
   "name": "python",
   "nbconvert_exporter": "python",
   "pygments_lexer": "ipython3",
   "version": "3.11.3"
  }
 },
 "nbformat": 4,
 "nbformat_minor": 5
}
