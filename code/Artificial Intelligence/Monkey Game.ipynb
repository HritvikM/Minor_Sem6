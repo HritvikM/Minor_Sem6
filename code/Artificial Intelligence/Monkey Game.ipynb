{
 "cells": [
  {
   "cell_type": "code",
   "execution_count": 8,
   "id": "d424d1f2",
   "metadata": {},
   "outputs": [
    {
     "ename": "ModuleNotFoundError",
     "evalue": "No module named 'poodle'",
     "output_type": "error",
     "traceback": [
      "\u001b[1;31m---------------------------------------------------------------------------\u001b[0m",
      "\u001b[1;31mModuleNotFoundError\u001b[0m                       Traceback (most recent call last)",
      "Cell \u001b[1;32mIn[8], line 1\u001b[0m\n\u001b[1;32m----> 1\u001b[0m \u001b[38;5;28;01mfrom\u001b[39;00m \u001b[38;5;21;01mpoodle\u001b[39;00m \u001b[38;5;28;01mimport\u001b[39;00m Object,schedule\n\u001b[0;32m      2\u001b[0m \u001b[38;5;28;01mfrom\u001b[39;00m \u001b[38;5;21;01mtyping\u001b[39;00m \u001b[38;5;28;01mimport\u001b[39;00m Set\n\u001b[0;32m      3\u001b[0m \u001b[38;5;28;01mclass\u001b[39;00m \u001b[38;5;21;01mPosition\u001b[39;00m(Object):\n",
      "\u001b[1;31mModuleNotFoundError\u001b[0m: No module named 'poodle'"
     ]
    }
   ],
   "source": [
    "from poodle import Object,schedule\n",
    "from typing import Set\n",
    "class Position(Object):\n",
    "    def __str__(self):\n",
    "        if not hasattr(self, \"locname\"): return \"unknown\"\n",
    "        return self.locname\n",
    "class HasHeight(Object):\n",
    "    height: int\n",
    "class HasPosition(Object):\n",
    "    at: Position\n",
    "class Monkey(HasHeight, HasPosition): pass\n",
    "class PalmTree(HasHeight, HasPosition):\n",
    "    def __init__(self, *args, **kwargs):\n",
    "        super().__init__(*args, **kwargs)\n",
    "        self.height = 2\n",
    "class Box(HasHeight, HasPosition): pass\n",
    "class Banana(HasHeight, HasPosition):\n",
    "    owner: Monkey\n",
    "    attached: PalmTree \n",
    "class World(Object):\n",
    "    locations: Set[Position]\n",
    "    p1 = Position()\n",
    "    p1.locname = \"Position A\"\n",
    "    p2 = Position()\n",
    "    p2.locname = \"Position B\"\n",
    "    p3 = Position()\n",
    "    p3.locname = \"Position C\"\n",
    "    w = World()\n",
    "    w.locations.add(p1)\n",
    "    w.locations.add(p2)\n",
    "    w.locations.add(p3)\n",
    "    m = Monkey()\n",
    "    m.height = 0 # ground\n",
    "    m.at = p1\n",
    "    box = Box()\n",
    "    box.height = 2\n",
    "    box.at = p2\n",
    "    p = PalmTree()\n",
    "    p.at = p3\n",
    "    b = Banana()\n",
    "    b.attached = p\n",
    "def go(monkey: Monkey, where: Position):\n",
    "    assert where in w.location\n",
    "    assert monkey.height < 1, \"Monkey can only move while on the ground\"\n",
    "    monkey.at = where\n",
    "    return f\"Monkey moved to {where}\"\n",
    "def push(monkey: Monkey, box: Box, where: Position):\n",
    "    assert monkey.at == box.at\n",
    "    assert where in w.locations\n",
    "    assert monkey.height < 1, \"Monkey can only move the box while on the ground\"\n",
    "    monkey.at = where\n",
    "    box.at = where\n",
    "    return f\"Monkey moved box to {where}\"\n",
    "def climb_up(monkey: Monkey, box: Box):\n",
    "    assert monkey.at == box.at\n",
    "    monkey.height += box.height\n",
    "    return \"Monkey climbs the box\"\n",
    "def grasp(monkey: Monkey, banana: Banana):\n",
    "    assert monkey.height == banana.height\n",
    "    assert monkey.at == banana.at\n",
    "    banana.owner = monkey\n",
    "    return \"Monkey takes the banana\"\n",
    "def infer_owner_at(palmtree: PalmTree, banana: Banana):\n",
    "    assert banana.attached == palmtree\n",
    "    banana.at = palmtree.at\n",
    "    return \"Remembered that if banana is on palm tree, its location is where palm tree is\"\n",
    "def infer_banana_height(palmtree: PalmTree, banana: Banana):\n",
    "    assert banana.attached == palmtree\n",
    "    banana.height = palmtree.height\n",
    "    return \"Remembered that if banana is on the tree, its height equals tree's height\"\n",
    "\n",
    "print('\\n'.join(x() for x in schedule(\n",
    " [go, push, climb_up, grasp, infer_banana_height, infer_owner_at],\n",
    " [w,p1,p2,p3,m,box,p,b],\n",
    " goal=lambda: b.owner == m)))"
   ]
  },
  {
   "cell_type": "code",
   "execution_count": 9,
   "id": "d299f822",
   "metadata": {},
   "outputs": [
    {
     "name": "stdout",
     "output_type": "stream",
     "text": [
      "Note: you may need to restart the kernel to use updated packages.\n"
     ]
    },
    {
     "name": "stderr",
     "output_type": "stream",
     "text": [
      "ERROR: Could not find a version that satisfies the requirement poodle==0.2.9 (from versions: none)\n",
      "ERROR: No matching distribution found for poodle==0.2.9\n"
     ]
    }
   ],
   "source": [
    "pip install poodle==0.2.9 \n"
   ]
  },
  {
   "cell_type": "code",
   "execution_count": null,
   "id": "7a5dba9f",
   "metadata": {},
   "outputs": [],
   "source": []
  }
 ],
 "metadata": {
  "kernelspec": {
   "display_name": "Python 3 (ipykernel)",
   "language": "python",
   "name": "python3"
  },
  "language_info": {
   "codemirror_mode": {
    "name": "ipython",
    "version": 3
   },
   "file_extension": ".py",
   "mimetype": "text/x-python",
   "name": "python",
   "nbconvert_exporter": "python",
   "pygments_lexer": "ipython3",
   "version": "3.11.3"
  }
 },
 "nbformat": 4,
 "nbformat_minor": 5
}
